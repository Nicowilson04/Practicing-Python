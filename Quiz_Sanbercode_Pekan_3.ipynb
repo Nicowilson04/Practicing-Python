{
 "cells": [
  {
   "cell_type": "markdown",
   "metadata": {
    "id": "Mk6qjezc8tPu"
   },
   "source": [
    "# Quiz Pekan - 3\n",
    "\n",
    "Dataset-dataset berikut ini menunjukkan persentase fat, protein, dan food yang dikonsumsi dari setiap jenis makanan yang terdaftar. Beberapa bagian akhir dataset juga mencakup persentase obesitas(Obesity), kurang gizi(Undernourished), dan kasus COVID-19 yang Terkonfirmasi(Confirmed)/Kematian(Deaths)/Sembuh(Recovered)/Aktif(Active).\n",
    "\n",
    "(Catatan: Semua data memiliki unit '%' (persen) kecuali Populasi, unit persen tersebut dihitung berdasarkan jumlah populasi).\n",
    "\n",
    "Link Download:\n",
    "\n",
    "[Food_Supply_Quantity_kg_Data.csv](https://drive.google.com/uc?export=download&id=1zGtWKaC7PwNJPk_LVaLRCsIscQROg8wJ)\n",
    "\n",
    "[Protein_Supply_Quantity_Data.csv](https://drive.google.com/uc?export=download&id=1VcfsrpTwx_13O1su5CwHmpJvh9EVZLzi)\n",
    "\n",
    "[Fat_Supply_Quantity_Data.csv](https://drive.google.com/uc?export=download&id=1u0jghgzsmnC6-XBs6NDQe_OWyjV0Dmxe)\n",
    "\n",
    "[Supply_Food_Data_Descriptions.csv](https://drive.google.com/uc?export=download&id=1iaaEXmyTX-ACjwfLmSkEkLTdwWfbE-dH)"
   ]
  },
  {
   "cell_type": "code",
   "execution_count": 1,
   "metadata": {
    "id": "NGNbQVKm4vgv"
   },
   "outputs": [],
   "source": [
    "import numpy as np\n",
    "import pandas as pd\n",
    "import matplotlib.pyplot as plt\n",
    "\n",
    "# Import Semua Data\n",
    "df_food = pd.read_csv('Food_Supply_Quantity_kg_Data.csv')\n",
    "df_protein = pd.read_csv('Protein_Supply_Quantity_Data.csv')\n",
    "df_fat = pd.read_csv('Fat_Supply_Quantity_Data.csv')\n",
    "df_category = pd.read_csv('Supply_Food_Data_Descriptions.csv')"
   ]
  },
  {
   "cell_type": "markdown",
   "metadata": {
    "id": "Aj2MY336-ylZ"
   },
   "source": [
    "---"
   ]
  },
  {
   "cell_type": "markdown",
   "metadata": {
    "id": "xWD8Zh-r_TxA"
   },
   "source": [
    "# Soal 1: Memisahkan kolom pada supply dataset antara kategori makanan dan bukan makanan"
   ]
  },
  {
   "cell_type": "markdown",
   "metadata": {
    "id": "s4OM-RnaAQKl"
   },
   "source": [
    "Teman-teman diminta untuk menampilkan list kolom-kolom pada supply DataFrame dengan ketentuan sebagai berikut:\n",
    "\n",
    "*   all columns: list yang berisikan semua kolom pada supply DataFrame\n",
    "*   supply columns: list yang berisikan semua kolom pada supply DataFrame berdasarkan kolom 'Categories' pada DataFrame df_category\n",
    "*   non-supply columns: list yang berisikan semua kolom non-supply pada supply DataFrame\n"
   ]
  },
  {
   "cell_type": "code",
   "execution_count": 2,
   "metadata": {
    "id": "8aHiCSZh5q1g"
   },
   "outputs": [
    {
     "name": "stdout",
     "output_type": "stream",
     "text": [
      "All Columns : ['Country', 'Alcoholic Beverages', 'Animal fats', 'Animal Products', 'Aquatic Products, Other', 'Cereals - Excluding Beer', 'Eggs', 'Fish, Seafood', 'Fruits - Excluding Wine', 'Meat', 'Milk - Excluding Butter', 'Miscellaneous', 'Offals', 'Oilcrops', 'Pulses', 'Spices', 'Starchy Roots', 'Stimulants', 'Sugar & Sweeteners', 'Sugar Crops', 'Treenuts', 'Vegetable Oils', 'Vegetables', 'Vegetal Products', 'Obesity', 'Undernourished', 'Confirmed', 'Deaths', 'Recovered', 'Active', 'Population', 'Unit (all except Population)'] \n",
      "\n",
      "\n",
      "Supply Columns : ['Alcoholic Beverages', 'Animal fats', 'Animal Products', 'Aquatic Products, Other', 'Cereals - Excluding Beer', 'Eggs', 'Fish, Seafood', 'Fruits - Excluding Wine', 'Meat', 'Milk - Excluding Butter', 'Miscellaneous', 'Offals', 'Oilcrops', 'Pulses', 'Spices', 'Starchy Roots', 'Stimulants', 'Sugar & Sweeteners', 'Sugar Crops', 'Treenuts', 'Vegetable Oils', 'Vegetables', 'Vegetal Products'] \n",
      "\n",
      "\n",
      "Non supply Columns : ['Country', 'Obesity', 'Undernourished', 'Confirmed', 'Deaths', 'Recovered', 'Active', 'Population', 'Unit (all except Population)'] \n",
      "\n",
      "\n"
     ]
    }
   ],
   "source": [
    "# Example\n",
    "all_columns = df_food.columns.tolist()\n",
    "print(f'All Columns : {all_columns} \\n\\n')\n",
    "\n",
    "supply_columns = df_category['Categories'].tolist()\n",
    "print(f'Supply Columns : {supply_columns} \\n\\n')\n",
    "\n",
    "non_supply_columns = []\n",
    "for i in all_columns:\n",
    "    if i not in supply_columns:\n",
    "        non_supply_columns.append(i)\n",
    "print(f'Non supply Columns : {non_supply_columns} \\n\\n')"
   ]
  },
  {
   "cell_type": "markdown",
   "metadata": {
    "id": "zVjfRh2xDC8g"
   },
   "source": [
    "# Soal 2: Menggabungkan DataFrame\n",
    "\n"
   ]
  },
  {
   "cell_type": "markdown",
   "metadata": {
    "id": "-xRZSuKBDYeQ"
   },
   "source": [
    "Gabungkan semua supply DataFrame dengan ketentuan tidak ada kolom dengan nama yang sama. Untuk kolom-kolom non-supply seperti tersebut di atas, memiliki nilai yang sama untuk setiap DataFrame, sehingga cukup ambil dari salah satu DataFrame. Sedangkan untuk kolom-kolom supply seperti tersebut di atas, setiap DataFrame (df_food, df_protein, df_fat) memiliki nilai yang berbeda, sehingga teman-teman perlu menambahkan suffix berdasarkan jenis supply DataFrame-nya, misalkan untuk kolom 'eggs' teman teman harus menambahkan suffix sehingga DataFrame gabungan memiliki kolom 'eggs_food', 'eggs_protein', dan 'eggs_fat'. Untuk mendapatkan gambaran lebih jelas, silahkan lihat pada expected output."
   ]
  },
  {
   "cell_type": "code",
   "execution_count": 3,
   "metadata": {
    "id": "v8_WdQrCFvbY"
   },
   "outputs": [],
   "source": [
    "# Hint\n",
    "df_non_supply_new = df_food[non_supply_columns]\n",
    "df_food_new = df_food[['Country']+supply_columns]\n",
    "df_protein_new = df_protein[['Country']+supply_columns]\n",
    "df_fat_new = df_fat[['Country']+supply_columns]"
   ]
  },
  {
   "cell_type": "code",
   "execution_count": 4,
   "metadata": {
    "id": "jtV0pJZGFwne"
   },
   "outputs": [],
   "source": [
    "# Selanjutnya gabungkan dataset pada hint di atas dengan menambahkan suffix berbeda untuk setiap supply dataset menggunakan pd.merge\n",
    "# Code here\n",
    "\n",
    "#df\n",
    "df_FP = df_food_new.merge(df_protein_new, how='outer', on='Country', suffixes=('_food','_protein'))\n",
    "df_FatP = df_fat_new.merge(df_protein, how='outer', on='Country', suffixes=('_fat','_protein'))"
   ]
  },
  {
   "cell_type": "code",
   "execution_count": 5,
   "metadata": {},
   "outputs": [
    {
     "data": {
      "text/html": [
       "<div>\n",
       "<style scoped>\n",
       "    .dataframe tbody tr th:only-of-type {\n",
       "        vertical-align: middle;\n",
       "    }\n",
       "\n",
       "    .dataframe tbody tr th {\n",
       "        vertical-align: top;\n",
       "    }\n",
       "\n",
       "    .dataframe thead th {\n",
       "        text-align: right;\n",
       "    }\n",
       "</style>\n",
       "<table border=\"1\" class=\"dataframe\">\n",
       "  <thead>\n",
       "    <tr style=\"text-align: right;\">\n",
       "      <th></th>\n",
       "      <th>Country</th>\n",
       "      <th>Alcoholic Beverages_food</th>\n",
       "      <th>Animal fats_food</th>\n",
       "      <th>Animal Products_food</th>\n",
       "      <th>Aquatic Products, Other_food</th>\n",
       "      <th>Cereals - Excluding Beer_food</th>\n",
       "      <th>Eggs_food</th>\n",
       "      <th>Fish, Seafood_food</th>\n",
       "      <th>Fruits - Excluding Wine_food</th>\n",
       "      <th>Meat_food</th>\n",
       "      <th>...</th>\n",
       "      <th>Vegetables_fat</th>\n",
       "      <th>Vegetal Products_fat</th>\n",
       "      <th>Obesity</th>\n",
       "      <th>Undernourished</th>\n",
       "      <th>Confirmed</th>\n",
       "      <th>Deaths</th>\n",
       "      <th>Recovered</th>\n",
       "      <th>Active</th>\n",
       "      <th>Population</th>\n",
       "      <th>Unit (all except Population)</th>\n",
       "    </tr>\n",
       "  </thead>\n",
       "  <tbody>\n",
       "    <tr>\n",
       "      <th>0</th>\n",
       "      <td>Afghanistan</td>\n",
       "      <td>0.0014</td>\n",
       "      <td>0.1973</td>\n",
       "      <td>9.4341</td>\n",
       "      <td>0.0000</td>\n",
       "      <td>24.8097</td>\n",
       "      <td>0.2099</td>\n",
       "      <td>0.0350</td>\n",
       "      <td>5.3495</td>\n",
       "      <td>1.2020</td>\n",
       "      <td>...</td>\n",
       "      <td>0.3593</td>\n",
       "      <td>28.3684</td>\n",
       "      <td>4.5</td>\n",
       "      <td>29.8</td>\n",
       "      <td>0.102237</td>\n",
       "      <td>0.003794</td>\n",
       "      <td>0.085065</td>\n",
       "      <td>0.013379</td>\n",
       "      <td>38928000.0</td>\n",
       "      <td>%</td>\n",
       "    </tr>\n",
       "    <tr>\n",
       "      <th>1</th>\n",
       "      <td>Albania</td>\n",
       "      <td>1.6719</td>\n",
       "      <td>0.1357</td>\n",
       "      <td>18.7684</td>\n",
       "      <td>0.0000</td>\n",
       "      <td>5.7817</td>\n",
       "      <td>0.5815</td>\n",
       "      <td>0.2126</td>\n",
       "      <td>6.7861</td>\n",
       "      <td>1.8845</td>\n",
       "      <td>...</td>\n",
       "      <td>0.6503</td>\n",
       "      <td>17.9998</td>\n",
       "      <td>22.3</td>\n",
       "      <td>6.2</td>\n",
       "      <td>0.542600</td>\n",
       "      <td>0.014799</td>\n",
       "      <td>0.334743</td>\n",
       "      <td>0.193058</td>\n",
       "      <td>2838000.0</td>\n",
       "      <td>%</td>\n",
       "    </tr>\n",
       "    <tr>\n",
       "      <th>2</th>\n",
       "      <td>Algeria</td>\n",
       "      <td>0.2711</td>\n",
       "      <td>0.0282</td>\n",
       "      <td>9.6334</td>\n",
       "      <td>0.0000</td>\n",
       "      <td>13.6816</td>\n",
       "      <td>0.5277</td>\n",
       "      <td>0.2416</td>\n",
       "      <td>6.3801</td>\n",
       "      <td>1.1305</td>\n",
       "      <td>...</td>\n",
       "      <td>0.5145</td>\n",
       "      <td>35.5857</td>\n",
       "      <td>26.6</td>\n",
       "      <td>3.9</td>\n",
       "      <td>0.119647</td>\n",
       "      <td>0.004060</td>\n",
       "      <td>0.083797</td>\n",
       "      <td>0.031790</td>\n",
       "      <td>44357000.0</td>\n",
       "      <td>%</td>\n",
       "    </tr>\n",
       "    <tr>\n",
       "      <th>3</th>\n",
       "      <td>Angola</td>\n",
       "      <td>5.8087</td>\n",
       "      <td>0.0560</td>\n",
       "      <td>4.9278</td>\n",
       "      <td>0.0000</td>\n",
       "      <td>9.1085</td>\n",
       "      <td>0.0587</td>\n",
       "      <td>1.7707</td>\n",
       "      <td>6.0005</td>\n",
       "      <td>2.0571</td>\n",
       "      <td>...</td>\n",
       "      <td>0.1231</td>\n",
       "      <td>34.7010</td>\n",
       "      <td>6.8</td>\n",
       "      <td>25</td>\n",
       "      <td>0.019574</td>\n",
       "      <td>0.000670</td>\n",
       "      <td>0.008434</td>\n",
       "      <td>0.010470</td>\n",
       "      <td>32522000.0</td>\n",
       "      <td>%</td>\n",
       "    </tr>\n",
       "    <tr>\n",
       "      <th>4</th>\n",
       "      <td>Antigua and Barbuda</td>\n",
       "      <td>3.5764</td>\n",
       "      <td>0.0087</td>\n",
       "      <td>16.6613</td>\n",
       "      <td>0.0000</td>\n",
       "      <td>5.9960</td>\n",
       "      <td>0.2274</td>\n",
       "      <td>4.1489</td>\n",
       "      <td>10.7451</td>\n",
       "      <td>5.6888</td>\n",
       "      <td>...</td>\n",
       "      <td>0.2469</td>\n",
       "      <td>22.2995</td>\n",
       "      <td>19.1</td>\n",
       "      <td>NaN</td>\n",
       "      <td>0.113265</td>\n",
       "      <td>0.003061</td>\n",
       "      <td>0.098980</td>\n",
       "      <td>0.011224</td>\n",
       "      <td>98000.0</td>\n",
       "      <td>%</td>\n",
       "    </tr>\n",
       "    <tr>\n",
       "      <th>5</th>\n",
       "      <td>Argentina</td>\n",
       "      <td>4.2672</td>\n",
       "      <td>0.2234</td>\n",
       "      <td>19.3454</td>\n",
       "      <td>0.0000</td>\n",
       "      <td>8.4102</td>\n",
       "      <td>0.9979</td>\n",
       "      <td>0.4693</td>\n",
       "      <td>6.0435</td>\n",
       "      <td>7.0421</td>\n",
       "      <td>...</td>\n",
       "      <td>0.1878</td>\n",
       "      <td>19.6449</td>\n",
       "      <td>28.5</td>\n",
       "      <td>4.6</td>\n",
       "      <td>1.970615</td>\n",
       "      <td>0.052599</td>\n",
       "      <td>1.589748</td>\n",
       "      <td>0.328268</td>\n",
       "      <td>45377000.0</td>\n",
       "      <td>%</td>\n",
       "    </tr>\n",
       "    <tr>\n",
       "      <th>6</th>\n",
       "      <td>Armenia</td>\n",
       "      <td>0.4014</td>\n",
       "      <td>0.1833</td>\n",
       "      <td>13.5640</td>\n",
       "      <td>0.0000</td>\n",
       "      <td>7.2982</td>\n",
       "      <td>0.5783</td>\n",
       "      <td>0.2896</td>\n",
       "      <td>6.0989</td>\n",
       "      <td>2.2675</td>\n",
       "      <td>...</td>\n",
       "      <td>0.8717</td>\n",
       "      <td>20.3384</td>\n",
       "      <td>20.9</td>\n",
       "      <td>4.3</td>\n",
       "      <td>1.909709</td>\n",
       "      <td>0.034506</td>\n",
       "      <td>1.550203</td>\n",
       "      <td>0.325000</td>\n",
       "      <td>2956000.0</td>\n",
       "      <td>%</td>\n",
       "    </tr>\n",
       "    <tr>\n",
       "      <th>7</th>\n",
       "      <td>Australia</td>\n",
       "      <td>5.5436</td>\n",
       "      <td>0.3143</td>\n",
       "      <td>21.4175</td>\n",
       "      <td>0.0033</td>\n",
       "      <td>5.4979</td>\n",
       "      <td>0.4428</td>\n",
       "      <td>1.4264</td>\n",
       "      <td>4.1883</td>\n",
       "      <td>6.7049</td>\n",
       "      <td>...</td>\n",
       "      <td>0.2144</td>\n",
       "      <td>25.8901</td>\n",
       "      <td>30.4</td>\n",
       "      <td>&lt;2.5</td>\n",
       "      <td>0.105945</td>\n",
       "      <td>0.003487</td>\n",
       "      <td>0.097072</td>\n",
       "      <td>0.005386</td>\n",
       "      <td>25754000.0</td>\n",
       "      <td>%</td>\n",
       "    </tr>\n",
       "    <tr>\n",
       "      <th>8</th>\n",
       "      <td>Austria</td>\n",
       "      <td>7.0215</td>\n",
       "      <td>0.8555</td>\n",
       "      <td>19.5654</td>\n",
       "      <td>0.0011</td>\n",
       "      <td>6.2116</td>\n",
       "      <td>0.7884</td>\n",
       "      <td>0.7562</td>\n",
       "      <td>4.6069</td>\n",
       "      <td>4.6810</td>\n",
       "      <td>...</td>\n",
       "      <td>0.2039</td>\n",
       "      <td>22.1762</td>\n",
       "      <td>21.9</td>\n",
       "      <td>&lt;2.5</td>\n",
       "      <td>0.620586</td>\n",
       "      <td>0.009547</td>\n",
       "      <td>0.487413</td>\n",
       "      <td>0.123626</td>\n",
       "      <td>8914000.0</td>\n",
       "      <td>%</td>\n",
       "    </tr>\n",
       "    <tr>\n",
       "      <th>9</th>\n",
       "      <td>Azerbaijan</td>\n",
       "      <td>3.5969</td>\n",
       "      <td>0.2544</td>\n",
       "      <td>11.6416</td>\n",
       "      <td>0.0000</td>\n",
       "      <td>13.0898</td>\n",
       "      <td>0.5593</td>\n",
       "      <td>0.2020</td>\n",
       "      <td>4.7988</td>\n",
       "      <td>2.1513</td>\n",
       "      <td>...</td>\n",
       "      <td>0.6534</td>\n",
       "      <td>17.8802</td>\n",
       "      <td>19.9</td>\n",
       "      <td>&lt;2.5</td>\n",
       "      <td>0.415334</td>\n",
       "      <td>0.006025</td>\n",
       "      <td>0.389365</td>\n",
       "      <td>0.019945</td>\n",
       "      <td>10108000.0</td>\n",
       "      <td>%</td>\n",
       "    </tr>\n",
       "  </tbody>\n",
       "</table>\n",
       "<p>10 rows × 78 columns</p>\n",
       "</div>"
      ],
      "text/plain": [
       "               Country  Alcoholic Beverages_food  Animal fats_food  \\\n",
       "0          Afghanistan                    0.0014            0.1973   \n",
       "1              Albania                    1.6719            0.1357   \n",
       "2              Algeria                    0.2711            0.0282   \n",
       "3               Angola                    5.8087            0.0560   \n",
       "4  Antigua and Barbuda                    3.5764            0.0087   \n",
       "5            Argentina                    4.2672            0.2234   \n",
       "6              Armenia                    0.4014            0.1833   \n",
       "7            Australia                    5.5436            0.3143   \n",
       "8              Austria                    7.0215            0.8555   \n",
       "9           Azerbaijan                    3.5969            0.2544   \n",
       "\n",
       "   Animal Products_food  Aquatic Products, Other_food  \\\n",
       "0                9.4341                        0.0000   \n",
       "1               18.7684                        0.0000   \n",
       "2                9.6334                        0.0000   \n",
       "3                4.9278                        0.0000   \n",
       "4               16.6613                        0.0000   \n",
       "5               19.3454                        0.0000   \n",
       "6               13.5640                        0.0000   \n",
       "7               21.4175                        0.0033   \n",
       "8               19.5654                        0.0011   \n",
       "9               11.6416                        0.0000   \n",
       "\n",
       "   Cereals - Excluding Beer_food  Eggs_food  Fish, Seafood_food  \\\n",
       "0                        24.8097     0.2099              0.0350   \n",
       "1                         5.7817     0.5815              0.2126   \n",
       "2                        13.6816     0.5277              0.2416   \n",
       "3                         9.1085     0.0587              1.7707   \n",
       "4                         5.9960     0.2274              4.1489   \n",
       "5                         8.4102     0.9979              0.4693   \n",
       "6                         7.2982     0.5783              0.2896   \n",
       "7                         5.4979     0.4428              1.4264   \n",
       "8                         6.2116     0.7884              0.7562   \n",
       "9                        13.0898     0.5593              0.2020   \n",
       "\n",
       "   Fruits - Excluding Wine_food  Meat_food  ...  Vegetables_fat  \\\n",
       "0                        5.3495     1.2020  ...          0.3593   \n",
       "1                        6.7861     1.8845  ...          0.6503   \n",
       "2                        6.3801     1.1305  ...          0.5145   \n",
       "3                        6.0005     2.0571  ...          0.1231   \n",
       "4                       10.7451     5.6888  ...          0.2469   \n",
       "5                        6.0435     7.0421  ...          0.1878   \n",
       "6                        6.0989     2.2675  ...          0.8717   \n",
       "7                        4.1883     6.7049  ...          0.2144   \n",
       "8                        4.6069     4.6810  ...          0.2039   \n",
       "9                        4.7988     2.1513  ...          0.6534   \n",
       "\n",
       "   Vegetal Products_fat  Obesity  Undernourished  Confirmed    Deaths  \\\n",
       "0               28.3684      4.5            29.8   0.102237  0.003794   \n",
       "1               17.9998     22.3             6.2   0.542600  0.014799   \n",
       "2               35.5857     26.6             3.9   0.119647  0.004060   \n",
       "3               34.7010      6.8              25   0.019574  0.000670   \n",
       "4               22.2995     19.1             NaN   0.113265  0.003061   \n",
       "5               19.6449     28.5             4.6   1.970615  0.052599   \n",
       "6               20.3384     20.9             4.3   1.909709  0.034506   \n",
       "7               25.8901     30.4            <2.5   0.105945  0.003487   \n",
       "8               22.1762     21.9            <2.5   0.620586  0.009547   \n",
       "9               17.8802     19.9            <2.5   0.415334  0.006025   \n",
       "\n",
       "   Recovered    Active  Population  Unit (all except Population)  \n",
       "0   0.085065  0.013379  38928000.0                             %  \n",
       "1   0.334743  0.193058   2838000.0                             %  \n",
       "2   0.083797  0.031790  44357000.0                             %  \n",
       "3   0.008434  0.010470  32522000.0                             %  \n",
       "4   0.098980  0.011224     98000.0                             %  \n",
       "5   1.589748  0.328268  45377000.0                             %  \n",
       "6   1.550203  0.325000   2956000.0                             %  \n",
       "7   0.097072  0.005386  25754000.0                             %  \n",
       "8   0.487413  0.123626   8914000.0                             %  \n",
       "9   0.389365  0.019945  10108000.0                             %  \n",
       "\n",
       "[10 rows x 78 columns]"
      ]
     },
     "execution_count": 5,
     "metadata": {},
     "output_type": "execute_result"
    }
   ],
   "source": [
    "df = df_FP.merge(df_FatP)\n",
    "df.head(10)"
   ]
  },
  {
   "cell_type": "markdown",
   "metadata": {
    "id": "1O9_Cu_gIaxd"
   },
   "source": [
    "# Soal 3: Sorting dan Filtering"
   ]
  },
  {
   "cell_type": "markdown",
   "metadata": {
    "id": "iIPsCyFSIh27"
   },
   "source": [
    "Dari DataFrame hasil penggabungan pada Soal 2 (atau gunakan salah satu supply DataFrame karena kolom nilai non-supply memiliki nilai yang sama), kemudian urutkan data (sort) berdasarkan kolom kematian ('Deaths') dari yang terbesar. Setelah itu lakukan perintah berikut:\n",
    "\n",
    "- Print data hasil sorting\n",
    "- Urutan ke berapakah Indonesia berdasarkan tingkat kematian akibat COVID-19 setelah diurutkan dari yang terbesar? Gunakan code mendapatkan nilainya! \n",
    "- Berapa persen dari terkonfirmasi jumlah kematian akibat COVID-19 di Indonesia? Hitung jumlah orang yang meninggal! Gunakan code mendapatkan nilainya! #hint: jumlah orang yang meninggal = populasi * kematian --> jangan lupa ada yang masih dalam persen\n"
   ]
  },
  {
   "cell_type": "code",
   "execution_count": 6,
   "metadata": {
    "id": "n1yZCZ4bOo6m"
   },
   "outputs": [],
   "source": [
    "# Urutkan (sorting) dan print hasil sorting\n",
    "# Code here\n",
    "sort = df.sort_values(by=['Deaths'])\n",
    "df_rank = sort[['Country','Deaths']]"
   ]
  },
  {
   "cell_type": "code",
   "execution_count": 7,
   "metadata": {
    "id": "FnohMVQwP8Og"
   },
   "outputs": [],
   "source": [
    "# Urutan ke berapakah Indonesia\n",
    "# Code here\n",
    "sort['rank'] = df['Deaths'].rank(method='max')\n",
    "df_sort = sort[['Country','rank']]\n",
    "data_Ind = sort.loc[sort.values=='Indonesia']"
   ]
  },
  {
   "cell_type": "code",
   "execution_count": 36,
   "metadata": {
    "id": "yW_2e3suaq0y"
   },
   "outputs": [
    {
     "name": "stdout",
     "output_type": "stream",
     "text": [
      "Jumlah yang meninggal di Indonesia ada 0.00435859409212516 ,10% dari jumlah populasi.\n",
      "Jumlah yang meninggal di Indonesia ada 1184399.9999999988 orang.\n"
     ]
    }
   ],
   "source": [
    "# Berapa persen jumlah kematian di Indonesia? Berapa Jumlahnya?\n",
    "# Code here\n",
    "\n",
    "meninggal_persen = data_Ind['Deaths'].values\n",
    "meninggal = data_Ind['Population'].values*meninggal_persen\n",
    "\n",
    "e = float(meninggal_persen)\n",
    "f = float(meninggal)\n",
    "print(f'Jumlah yang meninggal di Indonesia ada',e, ',10% dari jumlah populasi.') # 10 digit\n",
    "print(f'Jumlah yang meninggal di Indonesia ada', f, 'orang.')"
   ]
  },
  {
   "cell_type": "markdown",
   "metadata": {
    "id": "Ur4P17eNVIDU"
   },
   "source": [
    "---"
   ]
  },
  {
   "cell_type": "markdown",
   "metadata": {
    "id": "zOvEqSmuUsXy"
   },
   "source": [
    "# Soal 4: Binning, Grouping, dan Aggregating data"
   ]
  },
  {
   "cell_type": "markdown",
   "metadata": {
    "id": "mLxskYLCTYFT"
   },
   "source": [
    "Lakukan binning pada kolom terkonfirmasi (Confirmed) COVID-19 dari DataFrame df_fat menjadi 5 bagian (q=5). Teman-teman dapat menggunakan fungsi qcut untuk melakukan bininng ini. Masukan data hasil binning tersebut menjadi kolom baru pada DataFrame df_fat. Beri nama kolom tersebut dengan 'Confirmed Category'. Berikan label 'Sangat Tidak Banyak', 'Tidak Banyak', 'Sedang', 'Cukup Banyak', 'Sangat Banyak'.\n",
    "\n",
    "Baca dokumentasi berikut untuk fungsi qcut : https://pandas.pydata.org/pandas-docs/stable/reference/api/pandas.qcut.html\n",
    "\n",
    "Kemudian lakukan perintah-perintah berikut:\n",
    "- Buat DataFrame baru yang berisi data grouping berdasarkan kolom hasil bininng atau kolom 'Confirmed Category'. \n",
    "- Lakukan grouping hanya pada kolom 'Obesity', 'Meat', 'Fruits - Excluding Wine', 'Fish, Seafood', 'Animal Products', 'Vegetal Products' saja.\n",
    "- Kemudian aggregate dengan fungsi mean. (df_baru = df_fat.groupby(...).mean())\n",
    "- Save DataFrame hasil binning, grouping, dan aggregating ke dalam file csv."
   ]
  },
  {
   "cell_type": "code",
   "execution_count": 9,
   "metadata": {
    "id": "l8o8Gu2If9N6"
   },
   "outputs": [],
   "source": [
    "# Lakukan binning pada kolom terkonfirmasi untuk DataFrame df_fat\n",
    "labels = ['Sangat Tidak Banyak', 'Tidak Banyak', 'Sedang', 'Cukup Banyak', 'Sangat Banyak']\n",
    "\n",
    "# Code here\n",
    "df_fat['Confirmed Category'] = pd.qcut(df_fat['Confirmed'], 5, labels=labels)"
   ]
  },
  {
   "cell_type": "code",
   "execution_count": 10,
   "metadata": {
    "id": "I0CC6VUfbEVf"
   },
   "outputs": [
    {
     "data": {
      "text/html": [
       "<div>\n",
       "<style scoped>\n",
       "    .dataframe tbody tr th:only-of-type {\n",
       "        vertical-align: middle;\n",
       "    }\n",
       "\n",
       "    .dataframe tbody tr th {\n",
       "        vertical-align: top;\n",
       "    }\n",
       "\n",
       "    .dataframe thead th {\n",
       "        text-align: right;\n",
       "    }\n",
       "</style>\n",
       "<table border=\"1\" class=\"dataframe\">\n",
       "  <thead>\n",
       "    <tr style=\"text-align: right;\">\n",
       "      <th></th>\n",
       "      <th>Obesity</th>\n",
       "      <th>Meat</th>\n",
       "      <th>Fruits - Excluding Wine</th>\n",
       "      <th>Fish, Seafood</th>\n",
       "      <th>Animal Products</th>\n",
       "      <th>Vegetal Products</th>\n",
       "    </tr>\n",
       "    <tr>\n",
       "      <th>Confirmed Category</th>\n",
       "      <th></th>\n",
       "      <th></th>\n",
       "      <th></th>\n",
       "      <th></th>\n",
       "      <th></th>\n",
       "      <th></th>\n",
       "    </tr>\n",
       "  </thead>\n",
       "  <tbody>\n",
       "    <tr>\n",
       "      <th>Sangat Tidak Banyak</th>\n",
       "      <td>10.484375</td>\n",
       "      <td>10.010327</td>\n",
       "      <td>0.747706</td>\n",
       "      <td>0.997418</td>\n",
       "      <td>17.430627</td>\n",
       "      <td>32.569509</td>\n",
       "    </tr>\n",
       "    <tr>\n",
       "      <th>Tidak Banyak</th>\n",
       "      <td>14.187500</td>\n",
       "      <td>7.769187</td>\n",
       "      <td>0.469666</td>\n",
       "      <td>0.819738</td>\n",
       "      <td>16.458350</td>\n",
       "      <td>33.542409</td>\n",
       "    </tr>\n",
       "    <tr>\n",
       "      <th>Sedang</th>\n",
       "      <td>20.596875</td>\n",
       "      <td>8.822713</td>\n",
       "      <td>0.526259</td>\n",
       "      <td>0.846625</td>\n",
       "      <td>21.883681</td>\n",
       "      <td>28.115884</td>\n",
       "    </tr>\n",
       "    <tr>\n",
       "      <th>Cukup Banyak</th>\n",
       "      <td>22.381250</td>\n",
       "      <td>9.434041</td>\n",
       "      <td>0.392972</td>\n",
       "      <td>0.488641</td>\n",
       "      <td>23.509800</td>\n",
       "      <td>26.491209</td>\n",
       "    </tr>\n",
       "    <tr>\n",
       "      <th>Sangat Banyak</th>\n",
       "      <td>24.812500</td>\n",
       "      <td>10.779006</td>\n",
       "      <td>0.610634</td>\n",
       "      <td>0.878213</td>\n",
       "      <td>24.541656</td>\n",
       "      <td>25.457866</td>\n",
       "    </tr>\n",
       "  </tbody>\n",
       "</table>\n",
       "</div>"
      ],
      "text/plain": [
       "                       Obesity       Meat  Fruits - Excluding Wine  \\\n",
       "Confirmed Category                                                   \n",
       "Sangat Tidak Banyak  10.484375  10.010327                 0.747706   \n",
       "Tidak Banyak         14.187500   7.769187                 0.469666   \n",
       "Sedang               20.596875   8.822713                 0.526259   \n",
       "Cukup Banyak         22.381250   9.434041                 0.392972   \n",
       "Sangat Banyak        24.812500  10.779006                 0.610634   \n",
       "\n",
       "                     Fish, Seafood  Animal Products  Vegetal Products  \n",
       "Confirmed Category                                                     \n",
       "Sangat Tidak Banyak       0.997418        17.430627         32.569509  \n",
       "Tidak Banyak              0.819738        16.458350         33.542409  \n",
       "Sedang                    0.846625        21.883681         28.115884  \n",
       "Cukup Banyak              0.488641        23.509800         26.491209  \n",
       "Sangat Banyak             0.878213        24.541656         25.457866  "
      ]
     },
     "execution_count": 10,
     "metadata": {},
     "output_type": "execute_result"
    }
   ],
   "source": [
    "# Lakukan grouping pada kolom hasil binning ('Confirmed Category'), kemudian aggregate menggunakan fungsi mean\n",
    "cols = ['Obesity', 'Meat', 'Fruits - Excluding Wine', 'Fish, Seafood', 'Animal Products', 'Vegetal Products']\n",
    "\n",
    "# Code here\n",
    "groupby_confirmed = df_fat.groupby(by = 'Confirmed Category')[cols].mean()\n",
    "groupby_confirmed"
   ]
  },
  {
   "cell_type": "code",
   "execution_count": 11,
   "metadata": {
    "id": "ylCxhoZIhQ1J"
   },
   "outputs": [],
   "source": [
    "# Save DataFrame hasil binning, grouping, dan aggregating\n",
    "\n",
    "groupby_confirmed.to_csv('groupby_confirmed.csv')"
   ]
  },
  {
   "cell_type": "markdown",
   "metadata": {
    "id": "QXt4J6-ki7yV"
   },
   "source": [
    "---"
   ]
  },
  {
   "cell_type": "markdown",
   "metadata": {
    "id": "KYkVllUIi9gk"
   },
   "source": [
    "# Soal 5: Bar plot"
   ]
  },
  {
   "cell_type": "markdown",
   "metadata": {
    "id": "oW_a_78Fjkbx"
   },
   "source": [
    "Gunakan data grouping pada soal sebelumnya untuk melakukan visualisasi. Jika kalian tidak dapat menyelesaikan soal tersebut, maka silahkan [download](https://drive.google.com/uc?export=download&id=17-YC-2WdbHWl6L-clRxYNawo9qMhyilD) data berikut yang merupakan hasil dari data grouping soal 4.\n",
    "\n",
    "Normalisasi data hasil grouping tersebut dengan rumus min-max normalisasi seperti rumus berikut ini. Kemudian buatlah grouping Visualization dengan berplot, visualisasikan data column 'Obesity', 'Fruits - Excluding Wine', 'Fish, Seafood', 'Animal Products' dan 'Vegetal Products'. "
   ]
  },
  {
   "cell_type": "markdown",
   "metadata": {
    "id": "884pC4nnWZVg"
   },
   "source": [
    "\\begin{equation*}\n",
    " X_{norm} = \\dfrac{X - X_{min}}{X_{max} - X_{min}}\n",
    "\\end{equation*}\n"
   ]
  },
  {
   "cell_type": "code",
   "execution_count": 12,
   "metadata": {
    "id": "NkL6dMeyb7m5"
   },
   "outputs": [
    {
     "data": {
      "text/html": [
       "<div>\n",
       "<style scoped>\n",
       "    .dataframe tbody tr th:only-of-type {\n",
       "        vertical-align: middle;\n",
       "    }\n",
       "\n",
       "    .dataframe tbody tr th {\n",
       "        vertical-align: top;\n",
       "    }\n",
       "\n",
       "    .dataframe thead th {\n",
       "        text-align: right;\n",
       "    }\n",
       "</style>\n",
       "<table border=\"1\" class=\"dataframe\">\n",
       "  <thead>\n",
       "    <tr style=\"text-align: right;\">\n",
       "      <th></th>\n",
       "      <th>Confirmed Category</th>\n",
       "      <th>Obesity</th>\n",
       "      <th>Meat</th>\n",
       "      <th>Fruits - Excluding Wine</th>\n",
       "      <th>Fish, Seafood</th>\n",
       "      <th>Animal Products</th>\n",
       "      <th>Vegetal Products</th>\n",
       "    </tr>\n",
       "  </thead>\n",
       "  <tbody>\n",
       "    <tr>\n",
       "      <th>0</th>\n",
       "      <td>Sangat Tidak Banyak</td>\n",
       "      <td>10.484375</td>\n",
       "      <td>10.010327</td>\n",
       "      <td>0.747706</td>\n",
       "      <td>0.997418</td>\n",
       "      <td>17.430627</td>\n",
       "      <td>32.569509</td>\n",
       "    </tr>\n",
       "    <tr>\n",
       "      <th>1</th>\n",
       "      <td>Tidak Banyak</td>\n",
       "      <td>14.187500</td>\n",
       "      <td>7.769187</td>\n",
       "      <td>0.469666</td>\n",
       "      <td>0.819738</td>\n",
       "      <td>16.458350</td>\n",
       "      <td>33.542409</td>\n",
       "    </tr>\n",
       "    <tr>\n",
       "      <th>2</th>\n",
       "      <td>Sedang</td>\n",
       "      <td>20.596875</td>\n",
       "      <td>8.822713</td>\n",
       "      <td>0.526259</td>\n",
       "      <td>0.846625</td>\n",
       "      <td>21.883681</td>\n",
       "      <td>28.115884</td>\n",
       "    </tr>\n",
       "    <tr>\n",
       "      <th>3</th>\n",
       "      <td>Cukup Banyak</td>\n",
       "      <td>22.381250</td>\n",
       "      <td>9.434041</td>\n",
       "      <td>0.392972</td>\n",
       "      <td>0.488641</td>\n",
       "      <td>23.509800</td>\n",
       "      <td>26.491209</td>\n",
       "    </tr>\n",
       "    <tr>\n",
       "      <th>4</th>\n",
       "      <td>Sangat Banyak</td>\n",
       "      <td>24.812500</td>\n",
       "      <td>10.779006</td>\n",
       "      <td>0.610634</td>\n",
       "      <td>0.878213</td>\n",
       "      <td>24.541656</td>\n",
       "      <td>25.457866</td>\n",
       "    </tr>\n",
       "  </tbody>\n",
       "</table>\n",
       "</div>"
      ],
      "text/plain": [
       "    Confirmed Category    Obesity       Meat  Fruits - Excluding Wine  \\\n",
       "0  Sangat Tidak Banyak  10.484375  10.010327                 0.747706   \n",
       "1         Tidak Banyak  14.187500   7.769187                 0.469666   \n",
       "2               Sedang  20.596875   8.822713                 0.526259   \n",
       "3         Cukup Banyak  22.381250   9.434041                 0.392972   \n",
       "4        Sangat Banyak  24.812500  10.779006                 0.610634   \n",
       "\n",
       "   Fish, Seafood  Animal Products  Vegetal Products  \n",
       "0       0.997418        17.430627         32.569509  \n",
       "1       0.819738        16.458350         33.542409  \n",
       "2       0.846625        21.883681         28.115884  \n",
       "3       0.488641        23.509800         26.491209  \n",
       "4       0.878213        24.541656         25.457866  "
      ]
     },
     "metadata": {},
     "output_type": "display_data"
    }
   ],
   "source": [
    "# Gunakan DataFrame hasil grouping soal 4 atau read data hasil download jika tidak dapat mengerjakan soal 4\n",
    "df = groupby_confirmed\n",
    "\n",
    "# Atau\n",
    "\n",
    "df = pd.read_csv('groupby_confirmed.csv')\n",
    "\n",
    "# Lihat df dan pastikan sesuai dengan expected output pada soal 4\n",
    "display(df)"
   ]
  },
  {
   "cell_type": "code",
   "execution_count": 13,
   "metadata": {
    "id": "DctX1-Gcb6S_"
   },
   "outputs": [],
   "source": [
    "# Lakukan normalisasi pada DataFrame df\n",
    "def norm (x):\n",
    "    a = x-x.min()\n",
    "    b=x.max()-x.min()\n",
    "    return a/b\n",
    "obs = norm(df['Obesity'])\n",
    "m = norm(df['Meat'])\n",
    "f = norm(df['Fruits - Excluding Wine'])\n",
    "fish = norm(df['Fish, Seafood'])\n",
    "a = norm(df['Animal Products'])\n",
    "v = norm(df['Vegetal Products'])\n",
    "c = df['Confirmed Category']"
   ]
  },
  {
   "cell_type": "code",
   "execution_count": 14,
   "metadata": {},
   "outputs": [],
   "source": [
    "data = pd.DataFrame(obs)\n",
    "data['Meat'] = m\n",
    "data['Fruits - Excluding Wine'] = f\n",
    "data['Fish, Seafood']=fish\n",
    "data['Animal Products']=a\n",
    "data['Vegetal Products']=v\n",
    "data['Confirmed Category'] = c"
   ]
  },
  {
   "cell_type": "code",
   "execution_count": 15,
   "metadata": {},
   "outputs": [],
   "source": [
    "df_norm = data.set_index('Confirmed Category')"
   ]
  },
  {
   "cell_type": "code",
   "execution_count": 16,
   "metadata": {},
   "outputs": [
    {
     "data": {
      "text/html": [
       "<div>\n",
       "<style scoped>\n",
       "    .dataframe tbody tr th:only-of-type {\n",
       "        vertical-align: middle;\n",
       "    }\n",
       "\n",
       "    .dataframe tbody tr th {\n",
       "        vertical-align: top;\n",
       "    }\n",
       "\n",
       "    .dataframe thead th {\n",
       "        text-align: right;\n",
       "    }\n",
       "</style>\n",
       "<table border=\"1\" class=\"dataframe\">\n",
       "  <thead>\n",
       "    <tr style=\"text-align: right;\">\n",
       "      <th></th>\n",
       "      <th>Obesity</th>\n",
       "      <th>Meat</th>\n",
       "      <th>Fruits - Excluding Wine</th>\n",
       "      <th>Fish, Seafood</th>\n",
       "      <th>Animal Products</th>\n",
       "      <th>Vegetal Products</th>\n",
       "    </tr>\n",
       "    <tr>\n",
       "      <th>Confirmed Category</th>\n",
       "      <th></th>\n",
       "      <th></th>\n",
       "      <th></th>\n",
       "      <th></th>\n",
       "      <th></th>\n",
       "      <th></th>\n",
       "    </tr>\n",
       "  </thead>\n",
       "  <tbody>\n",
       "    <tr>\n",
       "      <th>Sangat Tidak Banyak</th>\n",
       "      <td>0.000000</td>\n",
       "      <td>0.744610</td>\n",
       "      <td>1.000000</td>\n",
       "      <td>1.000000</td>\n",
       "      <td>0.120282</td>\n",
       "      <td>0.879659</td>\n",
       "    </tr>\n",
       "    <tr>\n",
       "      <th>Tidak Banyak</th>\n",
       "      <td>0.258451</td>\n",
       "      <td>0.000000</td>\n",
       "      <td>0.216201</td>\n",
       "      <td>0.650769</td>\n",
       "      <td>0.000000</td>\n",
       "      <td>1.000000</td>\n",
       "    </tr>\n",
       "    <tr>\n",
       "      <th>Sedang</th>\n",
       "      <td>0.705780</td>\n",
       "      <td>0.350029</td>\n",
       "      <td>0.375739</td>\n",
       "      <td>0.703617</td>\n",
       "      <td>0.671177</td>\n",
       "      <td>0.328778</td>\n",
       "    </tr>\n",
       "    <tr>\n",
       "      <th>Cukup Banyak</th>\n",
       "      <td>0.830316</td>\n",
       "      <td>0.553141</td>\n",
       "      <td>0.000000</td>\n",
       "      <td>0.000000</td>\n",
       "      <td>0.872347</td>\n",
       "      <td>0.127817</td>\n",
       "    </tr>\n",
       "    <tr>\n",
       "      <th>Sangat Banyak</th>\n",
       "      <td>1.000000</td>\n",
       "      <td>1.000000</td>\n",
       "      <td>0.613593</td>\n",
       "      <td>0.765702</td>\n",
       "      <td>1.000000</td>\n",
       "      <td>0.000000</td>\n",
       "    </tr>\n",
       "  </tbody>\n",
       "</table>\n",
       "</div>"
      ],
      "text/plain": [
       "                      Obesity      Meat  Fruits - Excluding Wine  \\\n",
       "Confirmed Category                                                 \n",
       "Sangat Tidak Banyak  0.000000  0.744610                 1.000000   \n",
       "Tidak Banyak         0.258451  0.000000                 0.216201   \n",
       "Sedang               0.705780  0.350029                 0.375739   \n",
       "Cukup Banyak         0.830316  0.553141                 0.000000   \n",
       "Sangat Banyak        1.000000  1.000000                 0.613593   \n",
       "\n",
       "                     Fish, Seafood  Animal Products  Vegetal Products  \n",
       "Confirmed Category                                                     \n",
       "Sangat Tidak Banyak       1.000000         0.120282          0.879659  \n",
       "Tidak Banyak              0.650769         0.000000          1.000000  \n",
       "Sedang                    0.703617         0.671177          0.328778  \n",
       "Cukup Banyak              0.000000         0.872347          0.127817  \n",
       "Sangat Banyak             0.765702         1.000000          0.000000  "
      ]
     },
     "execution_count": 16,
     "metadata": {},
     "output_type": "execute_result"
    }
   ],
   "source": [
    "df_norm"
   ]
  },
  {
   "cell_type": "code",
   "execution_count": 17,
   "metadata": {
    "id": "hxx-dQDXccDC"
   },
   "outputs": [
    {
     "name": "stderr",
     "output_type": "stream",
     "text": [
      "<ipython-input-17-462cff9ab4de>:21: UserWarning: FixedFormatter should only be used together with FixedLocator\n",
      "  ax.set_xticklabels(['0','Obesity', 'Meat', 'Fruits - Excluding Wine', 'Fish, Seafood', 'Animal Products', 'Vegetal Products'])\n"
     ]
    },
    {
     "data": {
      "image/png": "[encoded data removed]",
      "text/plain": [
       "<Figure size 1080x576 with 1 Axes>"
      ]
     },
     "metadata": {
      "needs_background": "light"
     },
     "output_type": "display_data"
    }
   ],
   "source": [
    "# Buat bar plot dari df_norm sesuai dengan expected output\n",
    "# Untuk menambahkan label di atas barplot lihat https://matplotlib.org/3.1.1/gallery/lines_bars_and_markers/barchart.html\n",
    "import matplotlib.pyplot as plt\n",
    "import numpy as np\n",
    "\n",
    "x = np.arange(0,60,10)\n",
    "y = np.round(df_norm.values[0],decimals=2)\n",
    "y2 = np.round(df_norm.values[1],decimals=2)\n",
    "y3 = np.round(df_norm.values[2],decimals=2)\n",
    "y4 = np.round(df_norm.values[3],decimals=2)\n",
    "y5 = np.round(df_norm.values[4],decimals=2)\n",
    "\n",
    "fig, ax = plt.subplots(figsize=(15,8))\n",
    "bar1 = ax.bar(x-2,y, label = 'Sangat Tidak Banyak')\n",
    "bar2 = ax.bar(x-1,y2, label = 'Tidak Banyak')\n",
    "bar3 = ax.bar(x,y3, label = 'Sedang')\n",
    "bar4 = ax.bar(x+1,y4, label = 'Banyak')\n",
    "bar5 = ax.bar(x+2,y5, label = 'Sangat Banyak')\n",
    "ax.set_title('Perbandingan Konsumsi Makanan Berdasarkan Tingkat Kasus COVID-19')\n",
    "ax.legend(loc='upper right')\n",
    "ax.set_xticklabels(['0','Obesity', 'Meat', 'Fruits - Excluding Wine', 'Fish, Seafood', 'Animal Products', 'Vegetal Products'])\n",
    "\n",
    "def autolabel(rects):\n",
    "    for rect in rects:\n",
    "        height = rect.get_height()\n",
    "        ax.annotate('{}'.format(height),\n",
    "                    xy=(rect.get_x() + rect.get_width() / 2, height),\n",
    "                    xytext=(0, 1), \n",
    "                    textcoords=\"offset points\",\n",
    "                    ha='center', va='bottom')\n",
    "        \n",
    "autolabel(bar1)\n",
    "autolabel(bar2)\n",
    "autolabel(bar3)\n",
    "autolabel(bar4)\n",
    "autolabel(bar5)\n",
    "fig.tight_layout()\n",
    "\n",
    "plt.show()"
   ]
  },
  {
   "cell_type": "markdown",
   "metadata": {
    "id": "KZJq0YxNp7bM"
   },
   "source": [
    "---"
   ]
  },
  {
   "cell_type": "markdown",
   "metadata": {
    "id": "LoJ9IXHBp890"
   },
   "source": [
    "# Soal 6: Scatter plot\n"
   ]
  },
  {
   "cell_type": "markdown",
   "metadata": {
    "id": "5sQPxjyIrrkM"
   },
   "source": [
    "Buatlah visualisasi scatter plot dari df_food antara Supply Sayuran ('Vegetal Products') dan persentase terkonfirmasi ('Confirmed') COVID-19 sesuai expected output dengan ketentuan berikut:\n",
    "\n",
    "\n",
    "* Gunakan kolom persentase kematian ('Death') sebagai ukuran pointnya kalikan suatu angka yang cukup besar agar terlihat.\n",
    "    \n",
    "* Gunakan kolom persentase produk hewani ('Animal Products') sebagai warna point, berikan colormap 'viridis'."
   ]
  },
  {
   "cell_type": "code",
   "execution_count": 18,
   "metadata": {
    "id": "AjA4QjNgcuEl"
   },
   "outputs": [
    {
     "data": {
      "image/png": "[encoded data removed]",
      "text/plain": [
       "<Figure size 1296x864 with 2 Axes>"
      ]
     },
     "metadata": {
      "needs_background": "light"
     },
     "output_type": "display_data"
    }
   ],
   "source": [
    "fig, ax = plt.subplots(figsize=(18, 12))\n",
    "\n",
    "# Code here\n",
    "graph = ax.scatter(df_food['Vegetal Products'], df_food['Confirmed'], s=df_food['Deaths']*100000, c=df_food['Animal Products'], cmap='viridis')\n",
    "fig.colorbar(graph)\n",
    "ax.set_title('Health Food and Covid-19')\n",
    "ax.set_xlabel('Supply Vegetal Product')\n",
    "ax.set_ylabel('Covid-19 case confirmed')\n",
    "plt.show()"
   ]
  }
 ],
 "metadata": {
  "colab": {
   "collapsed_sections": [],
   "name": "Quiz_Pekan_3.ipynb",
   "provenance": []
  },
  "kernelspec": {
   "display_name": "Python 3",
   "language": "python",
   "name": "python3"
  },
  "language_info": {
   "codemirror_mode": {
    "name": "ipython",
    "version": 3
   },
   "file_extension": ".py",
   "mimetype": "text/x-python",
   "name": "python",
   "nbconvert_exporter": "python",
   "pygments_lexer": "ipython3",
   "version": "3.8.5"
  }
 },
 "nbformat": 4,
 "nbformat_minor": 1
}
